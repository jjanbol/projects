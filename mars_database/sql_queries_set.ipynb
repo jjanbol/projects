{
 "cells": [
  {
   "cell_type": "markdown",
   "metadata": {
    "vscode": {
     "languageId": "bat"
    }
   },
   "source": [
    "# Establishing Connection with the CloudSQL Postgres instance \n"
   ]
  },
  {
   "cell_type": "code",
   "execution_count": 1,
   "metadata": {},
   "outputs": [
    {
     "name": "stdout",
     "output_type": "stream",
     "text": [
      "Connected to database: ('postgres',)\n"
     ]
    }
   ],
   "source": [
    "#Establishing Connection with the CloudSQL instance\n",
    "\n",
    "import psycopg2\n",
    "\n",
    "\n",
    "host = \"34.85.134.242\"        \n",
    "database = \"postgres\" \n",
    "user = \"postgres\"        \n",
    "password = \"mars\"      \n",
    "\n",
    "\n",
    "connection = psycopg2.connect(\n",
    "\n",
    "    host=host,\n",
    "    database=database,\n",
    "    user=user,\n",
    "    password=password\n",
    ")\n",
    "\n",
    "\n",
    "cursor = connection.cursor()\n",
    "cursor.execute(\"SELECT current_database();\")\n",
    "print(\"Connected to database:\", cursor.fetchone())\n",
    "\n"
   ]
  },
  {
   "cell_type": "markdown",
   "metadata": {},
   "source": [
    "# Tracking which Rovers need maintenance"
   ]
  },
  {
   "cell_type": "code",
   "execution_count": 2,
   "metadata": {},
   "outputs": [
    {
     "name": "stdout",
     "output_type": "stream",
     "text": [
      "(4, 6, 'Needs Maintenance', 'Material Collection', 83.0)\n",
      "(2, 10, 'Needs Maintenance', 'Transport', 66.3)\n"
     ]
    }
   ],
   "source": [
    "cursor = connection.cursor()\n",
    "\n",
    "query = ''' SELECT habitat_id, habitats.rover_id, status, task, charge_pct\n",
    "            FROM mars_colony.habitats\n",
    "            LEFT JOIN mars_colony.rovers\n",
    "            ON habitats.rover_id = rovers.rover_id\n",
    "            WHERE rovers.status = 'Needs Maintenance'\n",
    "            ;'''\n",
    "\n",
    "cursor.execute(query)\n",
    "rows = cursor.fetchall()\n",
    "\n",
    "for row in rows:\n",
    "    print(row)\n",
    "\n",
    "\n",
    "connection.commit() \n",
    "\n",
    "#cursor.close()"
   ]
  },
  {
   "cell_type": "markdown",
   "metadata": {},
   "source": [
    "# Tracking Faulty indoor temperature sensors"
   ]
  },
  {
   "cell_type": "code",
   "execution_count": 3,
   "metadata": {},
   "outputs": [
    {
     "name": "stdout",
     "output_type": "stream",
     "text": [
      "(1, 1, 'Temperature', 'Needs Maintenance')\n",
      "(3, 3, 'Temperature', 'Needs Maintenance')\n",
      "(3, 3, 'Temperature', 'Needs Maintenance')\n"
     ]
    }
   ],
   "source": [
    "cursor = connection.cursor()\n",
    "\n",
    "query = ''' SELECT habitat_id, indoor_sensors.sensor_id, sensor_type, status\n",
    "            FROM mars_colony.habitats\n",
    "            LEFT JOIN mars_colony.indoor_sensors\n",
    "            ON habitats.sensor_id = indoor_sensors.sensor_id\n",
    "            WHERE indoor_sensors.status = 'Needs Maintenance' and indoor_sensors.sensor_type='Temperature'\n",
    "            ;'''\n",
    "\n",
    "cursor.execute(query)\n",
    "rows = cursor.fetchall()\n",
    "\n",
    "for row in rows:\n",
    "    print(row)\n",
    "\n",
    "\n",
    "connection.commit() \n",
    "\n",
    "#cursor.close()"
   ]
  },
  {
   "cell_type": "markdown",
   "metadata": {},
   "source": [
    "# Tracking dust level that is higher than 300 from environmental monitoring sensors"
   ]
  },
  {
   "cell_type": "code",
   "execution_count": 29,
   "metadata": {},
   "outputs": [
    {
     "name": "stdout",
     "output_type": "stream",
     "text": [
      "(1, 392.7, datetime.datetime(2024, 12, 9, 7, 11, 4, 293996))\n",
      "(2, 334.5, datetime.datetime(2024, 12, 8, 13, 11, 4, 293996))\n",
      "(4, 425.5, datetime.datetime(2024, 12, 9, 1, 11, 4, 293994))\n",
      "(5, 392.7, datetime.datetime(2024, 12, 9, 7, 11, 4, 293996))\n",
      "(3, 470.1, datetime.datetime(2024, 12, 10, 20, 11, 4, 293999))\n",
      "(1, 497.2, datetime.datetime(2024, 12, 9, 6, 11, 4, 294005))\n"
     ]
    }
   ],
   "source": [
    "cursor = connection.cursor()\n",
    "\n",
    "query = ''' SELECT habitat_id, dust_level, timestamp\n",
    "            FROM mars_colony.habitats\n",
    "            LEFT JOIN mars_colony.mars_env_monitoring\n",
    "            ON habitats.record_id = mars_env_monitoring.record_id\n",
    "            WHERE dust_level > 300\n",
    "            ;'''\n",
    "\n",
    "cursor.execute(query)\n",
    "rows = cursor.fetchall()\n",
    "\n",
    "for row in rows:\n",
    "    print(row)\n",
    "\n",
    "\n",
    "connection.commit() \n",
    "\n",
    "#cursor.close()"
   ]
  },
  {
   "cell_type": "markdown",
   "metadata": {},
   "source": [
    "# Checking how much water is left in some habitats where data available"
   ]
  },
  {
   "cell_type": "code",
   "execution_count": 31,
   "metadata": {},
   "outputs": [
    {
     "name": "stdout",
     "output_type": "stream",
     "text": [
      "(2, 'Water', 739.6)\n",
      "(4, 'Water', 725.96)\n",
      "(3, 'Water', 282.76)\n"
     ]
    }
   ],
   "source": [
    "cursor = connection.cursor()\n",
    "\n",
    "query = ''' SELECT habitat_id, resource_type, quantity\n",
    "            FROM mars_colony.habitats\n",
    "            LEFT JOIN mars_colony.resources\n",
    "            ON habitats.resource_id = resources.resource_id\n",
    "            WHERE resource_type = 'Water'\n",
    "            ;'''\n",
    "\n",
    "cursor.execute(query)\n",
    "rows = cursor.fetchall()\n",
    "\n",
    "for row in rows:\n",
    "    print(row)\n",
    "\n",
    "\n",
    "connection.commit() \n",
    "\n",
    "#cursor.close()"
   ]
  },
  {
   "cell_type": "markdown",
   "metadata": {},
   "source": [
    "# Checking in which habitat the rovers for Exploration task is parked at the moment"
   ]
  },
  {
   "cell_type": "code",
   "execution_count": 34,
   "metadata": {},
   "outputs": [
    {
     "name": "stdout",
     "output_type": "stream",
     "text": [
      "(2, 2, 'Exploration', 66.5)\n",
      "(1, 7, 'Exploration', 66.5)\n"
     ]
    }
   ],
   "source": [
    "cursor = connection.cursor()\n",
    "\n",
    "query = ''' SELECT habitat_id, rovers.rover_id, task, charge_pct\n",
    "            FROM mars_colony.habitats\n",
    "            LEFT JOIN mars_colony.rovers\n",
    "            ON habitats.rover_id = rovers.rover_id\n",
    "            WHERE task = 'Exploration'\n",
    "            ;'''\n",
    "\n",
    "cursor.execute(query)\n",
    "rows = cursor.fetchall()\n",
    "\n",
    "for row in rows:\n",
    "    print(row)\n",
    "\n",
    "\n",
    "connection.commit() \n",
    "\n",
    "#cursor.close()"
   ]
  },
  {
   "cell_type": "markdown",
   "metadata": {},
   "source": [
    "As you can see the rover #2 for exploration is parked in habitat #2 and rover #7 for exploration is parked in habitat #1"
   ]
  },
  {
   "cell_type": "markdown",
   "metadata": {},
   "source": [
    "# Checking which Rovers have higher than 70 percent charge"
   ]
  },
  {
   "cell_type": "code",
   "execution_count": 37,
   "metadata": {},
   "outputs": [
    {
     "name": "stdout",
     "output_type": "stream",
     "text": [
      "(1, 1, 'Operational', 'Material Collection', 81.2)\n",
      "(4, 6, 'Needs Maintenance', 'Material Collection', 83.0)\n",
      "(2, 9, 'Operational', 'Material Collection', 99.0)\n"
     ]
    }
   ],
   "source": [
    "cursor = connection.cursor()\n",
    "\n",
    "query = ''' SELECT habitat_id, rovers.rover_id, status, task, charge_pct\n",
    "            FROM mars_colony.habitats\n",
    "            LEFT JOIN mars_colony.rovers\n",
    "            ON habitats.rover_id = rovers.rover_id\n",
    "            WHERE charge_pct > 70\n",
    "            ;'''\n",
    "\n",
    "cursor.execute(query)\n",
    "rows = cursor.fetchall()\n",
    "\n",
    "for row in rows:\n",
    "    print(row)\n",
    "\n",
    "\n",
    "connection.commit() \n",
    "\n",
    "#cursor.close()"
   ]
  },
  {
   "cell_type": "markdown",
   "metadata": {},
   "source": [
    "# Counting how many rovers each habitats have"
   ]
  },
  {
   "cell_type": "code",
   "execution_count": 67,
   "metadata": {},
   "outputs": [
    {
     "name": "stdout",
     "output_type": "stream",
     "text": [
      "(3, 3)\n",
      "(5, 1)\n",
      "(4, 2)\n",
      "(2, 3)\n",
      "(1, 2)\n"
     ]
    }
   ],
   "source": [
    "cursor = connection.cursor()\n",
    "\n",
    "query = ''' SELECT habitats.habitat_id, COUNT(rovers.rover_id)\n",
    "            FROM mars_colony.habitats\n",
    "            LEFT JOIN mars_colony.rovers\n",
    "            ON habitats.rover_id = rovers.rover_id\n",
    "            GROUP BY habitats.habitat_id\n",
    "            ;'''\n",
    "\n",
    "cursor.execute(query)\n",
    "rows = cursor.fetchall()\n",
    "\n",
    "for row in rows:\n",
    "    print(row)\n",
    "\n",
    "\n",
    "connection.commit() \n",
    "\n",
    "#cursor.close()"
   ]
  },
  {
   "cell_type": "markdown",
   "metadata": {},
   "source": [
    "The habitat 3 has the highest number of rovers "
   ]
  },
  {
   "cell_type": "markdown",
   "metadata": {},
   "source": [
    "# Reporting Generation"
   ]
  },
  {
   "cell_type": "markdown",
   "metadata": {},
   "source": [
    "### Overall report on environment metrics near the habitats can be done as below"
   ]
  },
  {
   "cell_type": "code",
   "execution_count": 58,
   "metadata": {},
   "outputs": [
    {
     "name": "stdout",
     "output_type": "stream",
     "text": [
      "(1, 0.97, -17.3, 81.0, 392.7)\n",
      "(2, 0.51, -51.1, 34.9, 334.5)\n",
      "(3, 1.42, -56.1, 85.8, 202.3)\n",
      "(4, 1.07, -45.2, 22.0, 425.5)\n",
      "(4, 1.01, -26.8, 22.9, 9.0)\n",
      "(5, 0.97, -17.3, 81.0, 392.7)\n",
      "(2, 0.25, -0.1, 9.6, 290.3)\n",
      "(3, 0.41, -1.4, 39.8, 470.1)\n",
      "(2, 0.41, -51.0, 70.0, 294.9)\n",
      "(3, 0.67, -18.3, 85.6, 243.4)\n",
      "(1, 1.37, -28.1, 54.1, 497.2)\n"
     ]
    }
   ],
   "source": [
    "cursor = connection.cursor()\n",
    "\n",
    "query = ''' SELECT habitat_id, radiation_level, temperature, wind_speed, dust_level\n",
    "            FROM mars_colony.habitats\n",
    "            LEFT JOIN mars_colony.mars_env_monitoring\n",
    "            ON habitats.record_id = mars_env_monitoring.record_id\n",
    "            ;'''\n",
    "\n",
    "cursor.execute(query)\n",
    "rows = cursor.fetchall()\n",
    "\n",
    "for row in rows:\n",
    "    print(row)\n",
    "\n",
    "\n",
    "connection.commit() \n",
    "\n",
    "#cursor.close()"
   ]
  },
  {
   "cell_type": "markdown",
   "metadata": {},
   "source": [
    "### Report on total accummulative quantity of food in each habitat where data is available"
   ]
  },
  {
   "cell_type": "code",
   "execution_count": 70,
   "metadata": {},
   "outputs": [
    {
     "name": "stdout",
     "output_type": "stream",
     "text": [
      "(1, 312.39)\n",
      "(3, 720.8)\n"
     ]
    }
   ],
   "source": [
    "cursor = connection.cursor()\n",
    "\n",
    "query = ''' SELECT habitats.habitat_id, SUM(resources.quantity) as total_acc_food\n",
    "            FROM mars_colony.habitats\n",
    "            LEFT JOIN mars_colony.resources\n",
    "            ON habitats.resource_id = resources.resource_id\n",
    "            WHERE resources.resource_type = 'Food'\n",
    "            GROUP BY habitats.habitat_id\n",
    "            ;'''\n",
    "\n",
    "cursor.execute(query)\n",
    "rows = cursor.fetchall()\n",
    "\n",
    "for row in rows:\n",
    "    print(row)\n",
    "\n",
    "\n",
    "connection.commit() \n",
    "\n",
    "#cursor.close()"
   ]
  },
  {
   "cell_type": "markdown",
   "metadata": {},
   "source": [
    "### Report on all the things that need maintenance"
   ]
  },
  {
   "cell_type": "code",
   "execution_count": 86,
   "metadata": {},
   "outputs": [
    {
     "name": "stdout",
     "output_type": "stream",
     "text": [
      "(1, 1, 'Needs Maintenance', None, None)\n",
      "(2, None, None, None, None)\n",
      "(3, 3, 'Needs Maintenance', None, None)\n",
      "(4, 10, 'Needs Maintenance', None, None)\n",
      "(4, None, None, 6, 'Needs Maintenance')\n",
      "(5, None, None, None, None)\n",
      "(2, 17, 'Needs Maintenance', 10, 'Needs Maintenance')\n",
      "(3, 3, 'Needs Maintenance', None, None)\n",
      "(2, None, None, None, None)\n",
      "(3, None, None, None, None)\n",
      "(1, None, None, None, None)\n"
     ]
    }
   ],
   "source": [
    "cursor = connection.cursor()\n",
    "\n",
    "query = ''' SELECT habitats.habitat_id, indoor_sensors.sensor_id, indoor_sensors.status,  rovers.rover_id, rovers.status\n",
    "            FROM mars_colony.habitats\n",
    "            LEFT JOIN mars_colony.indoor_sensors ON habitats.sensor_id = indoor_sensors.sensor_id and indoor_sensors.status = 'Needs Maintenance'\n",
    "            \n",
    "            LEFT JOIN mars_colony.rovers ON habitats.rover_id = rovers.rover_id and rovers.status = 'Needs Maintenance'\n",
    "            ;'''\n",
    "\n",
    "cursor.execute(query)\n",
    "rows = cursor.fetchall()\n",
    "\n",
    "for row in rows:\n",
    "    print(row)\n",
    "\n",
    "\n",
    "connection.commit() \n",
    "\n",
    "#cursor.close()"
   ]
  },
  {
   "cell_type": "markdown",
   "metadata": {},
   "source": [
    "# Indexing `status` column in `indoor_sensors`"
   ]
  },
  {
   "cell_type": "code",
   "execution_count": 106,
   "metadata": {},
   "outputs": [],
   "source": [
    "cursor = connection.cursor()\n",
    "\n",
    "query = ''' CREATE INDEX idx_status on mars_colony.indoor_sensors(status);'''\n",
    "\n",
    "cursor.execute(query)\n",
    "\n",
    "connection.commit() \n",
    "\n",
    "#cursor.close()"
   ]
  },
  {
   "cell_type": "code",
   "execution_count": 107,
   "metadata": {},
   "outputs": [
    {
     "name": "stdout",
     "output_type": "stream",
     "text": [
      "('indoor_sensors_pkey', 'CREATE UNIQUE INDEX indoor_sensors_pkey ON mars_colony.indoor_sensors USING btree (sensor_id)')\n",
      "('idx_status', 'CREATE INDEX idx_status ON mars_colony.indoor_sensors USING btree (status)')\n"
     ]
    }
   ],
   "source": [
    "cursor = connection.cursor()\n",
    "\n",
    "# PostgreSQL query to show indexes\n",
    "query = '''SELECT indexname, indexdef FROM pg_indexes WHERE tablename = 'indoor_sensors';'''\n",
    "\n",
    "cursor.execute(query)\n",
    "\n",
    "# Fetch and print all rows containing index information\n",
    "indexes = cursor.fetchall()\n",
    "for index in indexes:\n",
    "    print(index)\n",
    "\n",
    "cursor.close()\n"
   ]
  },
  {
   "cell_type": "markdown",
   "metadata": {},
   "source": []
  },
  {
   "cell_type": "markdown",
   "metadata": {},
   "source": [
    "# Indexing `status` column in `rovers` table"
   ]
  },
  {
   "cell_type": "code",
   "execution_count": 111,
   "metadata": {},
   "outputs": [],
   "source": [
    "cursor = connection.cursor()\n",
    "\n",
    "query = ''' CREATE INDEX rovers_status on mars_colony.rovers(status);'''\n",
    "\n",
    "cursor.execute(query)\n",
    "\n",
    "connection.commit() \n",
    "\n",
    "#cursor.close()"
   ]
  },
  {
   "cell_type": "code",
   "execution_count": 112,
   "metadata": {},
   "outputs": [
    {
     "name": "stdout",
     "output_type": "stream",
     "text": [
      "('rovers_pkey', 'CREATE UNIQUE INDEX rovers_pkey ON mars_colony.rovers USING btree (rover_id)')\n",
      "('rovers_status', 'CREATE INDEX rovers_status ON mars_colony.rovers USING btree (status)')\n"
     ]
    }
   ],
   "source": [
    "cursor = connection.cursor()\n",
    "\n",
    "# PostgreSQL query to show indexes\n",
    "query = '''SELECT indexname, indexdef FROM pg_indexes WHERE tablename = 'rovers';'''\n",
    "\n",
    "cursor.execute(query)\n",
    "\n",
    "# Fetch and print all rows containing index information\n",
    "indexes = cursor.fetchall()\n",
    "for index in indexes:\n",
    "    print(index)\n",
    "\n",
    "cursor.close()\n"
   ]
  },
  {
   "cell_type": "markdown",
   "metadata": {},
   "source": [
    "# indexing `dust_level` column in `mars_env_monitoring`"
   ]
  },
  {
   "cell_type": "code",
   "execution_count": 113,
   "metadata": {},
   "outputs": [],
   "source": [
    "cursor = connection.cursor()\n",
    "\n",
    "query = ''' CREATE INDEX dust_lvl on mars_colony.mars_env_monitoring(dust_level);'''\n",
    "\n",
    "cursor.execute(query)\n",
    "\n",
    "connection.commit() \n",
    "\n",
    "#cursor.close()"
   ]
  },
  {
   "cell_type": "code",
   "execution_count": 114,
   "metadata": {},
   "outputs": [
    {
     "name": "stdout",
     "output_type": "stream",
     "text": [
      "('mars_env_monitoring_pkey', 'CREATE UNIQUE INDEX mars_env_monitoring_pkey ON mars_colony.mars_env_monitoring USING btree (record_id)')\n",
      "('dust_lvl', 'CREATE INDEX dust_lvl ON mars_colony.mars_env_monitoring USING btree (dust_level)')\n"
     ]
    }
   ],
   "source": [
    "cursor = connection.cursor()\n",
    "\n",
    "# PostgreSQL query to show indexes\n",
    "query = '''SELECT indexname, indexdef FROM pg_indexes WHERE tablename = 'mars_env_monitoring';'''\n",
    "\n",
    "cursor.execute(query)\n",
    "\n",
    "# Fetch and print all rows containing index information\n",
    "indexes = cursor.fetchall()\n",
    "for index in indexes:\n",
    "    print(index)\n",
    "\n",
    "cursor.close()\n"
   ]
  },
  {
   "cell_type": "code",
   "execution_count": null,
   "metadata": {},
   "outputs": [],
   "source": []
  }
 ],
 "metadata": {
  "kernelspec": {
   "display_name": "advanced_py",
   "language": "python",
   "name": "python3"
  },
  "language_info": {
   "codemirror_mode": {
    "name": "ipython",
    "version": 3
   },
   "file_extension": ".py",
   "mimetype": "text/x-python",
   "name": "python",
   "nbconvert_exporter": "python",
   "pygments_lexer": "ipython3",
   "version": "3.10.15"
  }
 },
 "nbformat": 4,
 "nbformat_minor": 2
}
